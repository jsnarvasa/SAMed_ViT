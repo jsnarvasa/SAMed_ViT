{
 "cells": [
  {
   "cell_type": "code",
   "execution_count": 2,
   "metadata": {},
   "outputs": [],
   "source": [
    "import numpy as np\n",
    "import os\n",
    "import seaborn as sns"
   ]
  },
  {
   "cell_type": "code",
   "execution_count": 1,
   "metadata": {},
   "outputs": [],
   "source": [
    "DATA_DIR = '/home/narvjes/data/PASTIS/DATA_S2'"
   ]
  },
  {
   "cell_type": "code",
   "execution_count": 3,
   "metadata": {},
   "outputs": [],
   "source": [
    "# Get a list of all npy files in the directory\n",
    "npy_files = [os.path.join(DATA_DIR, file) for file in os.listdir(DATA_DIR) if file.endswith('.npy')]\n"
   ]
  },
  {
   "cell_type": "code",
   "execution_count": 4,
   "metadata": {},
   "outputs": [],
   "source": [
    "stats = {}\n",
    "\n",
    "for npy_file in npy_files:\n",
    "    data = np.load(npy_file)\n",
    "    for channel in range(10):\n",
    "        reshape_channel_data = data[:, channel, ...].reshape(-1)\n",
    "\n",
    "        if stats.get(channel) is None:\n",
    "            stats[channel] = reshape_channel_data.tolist()\n",
    "        else:\n",
    "            if len(stats[channel]) > 50_000_000:\n",
    "                break\n",
    "            stats[channel].extend(reshape_channel_data)"
   ]
  },
  {
   "cell_type": "code",
   "execution_count": 5,
   "metadata": {},
   "outputs": [
    {
     "name": "stdout",
     "output_type": "stream",
     "text": [
      "Channel 0: Mean: 1156.7664134317704\n",
      "Channel 0: Median: 478.0\n",
      "Channel 0: 25 Percentile 276.0\n",
      "Channel 0: 75 Percentile: 943.0\n",
      "Channel 1: Mean: 1361.5568362936208\n",
      "Channel 1: Median: 739.0\n",
      "Channel 1: 25 Percentile 500.0\n",
      "Channel 1: 75 Percentile: 1266.0\n",
      "Channel 2: Mean: 1409.6100548544812\n",
      "Channel 2: Median: 773.0\n",
      "Channel 2: 25 Percentile 382.0\n",
      "Channel 2: 75 Percentile: 1535.0\n",
      "Channel 3: Mean: 1741.0968947844915\n",
      "Channel 3: Median: 1197.0\n",
      "Channel 3: 25 Percentile 863.0\n",
      "Channel 3: 75 Percentile: 1786.0\n",
      "Channel 4: Mean: 2679.2179304867936\n",
      "Channel 4: Median: 2352.0\n",
      "Channel 4: 25 Percentile 1810.0\n",
      "Channel 4: 75 Percentile: 3023.0\n",
      "Channel 5: Mean: 3011.818203037948\n",
      "Channel 5: Median: 2706.0\n",
      "Channel 5: 25 Percentile 2050.0\n",
      "Channel 5: 75 Percentile: 3596.0\n",
      "Channel 6: Mean: 3159.7363180349093\n",
      "Channel 6: Median: 2895.0\n",
      "Channel 6: 25 Percentile 2175.0\n",
      "Channel 6: 75 Percentile: 3831.0\n",
      "Channel 7: Mean: 3264.4931991008343\n",
      "Channel 7: Median: 3008.0\n",
      "Channel 7: 25 Percentile 2298.0\n",
      "Channel 7: 75 Percentile: 3918.0\n",
      "Channel 8: Mean: 2369.307059185702\n",
      "Channel 8: Median: 2171.0\n",
      "Channel 8: 25 Percentile 1612.0\n",
      "Channel 8: 75 Percentile: 2938.0\n",
      "Channel 9: Mean: 1598.237781414607\n",
      "Channel 9: Median: 1344.0\n",
      "Channel 9: 25 Percentile 874.0\n",
      "Channel 9: 75 Percentile: 2114.0\n"
     ]
    }
   ],
   "source": [
    "for key in stats.keys():\n",
    "    print(f'Channel {str(key)}: Mean: {np.mean(stats[key])}')\n",
    "    print(f'Channel {str(key)}: Median: {np.median(stats[key])}')\n",
    "    print(f'Channel {str(key)}: 25 Percentile {np.percentile(stats[key], 25)}')\n",
    "    print(f'Channel {str(key)}: 75 Percentile: {np.percentile(stats[key], 75)}')"
   ]
  },
  {
   "cell_type": "code",
   "execution_count": 12,
   "metadata": {},
   "outputs": [
    {
     "data": {
      "text/plain": [
       "2468"
      ]
     },
     "execution_count": 12,
     "metadata": {},
     "output_type": "execute_result"
    }
   ],
   "source": [
    "len(channel_0)"
   ]
  },
  {
   "cell_type": "code",
   "execution_count": 13,
   "metadata": {},
   "outputs": [
    {
     "data": {
      "text/plain": [
       "2468"
      ]
     },
     "execution_count": 13,
     "metadata": {},
     "output_type": "execute_result"
    }
   ],
   "source": [
    "len(channel_0)"
   ]
  },
  {
   "cell_type": "code",
   "execution_count": null,
   "metadata": {},
   "outputs": [],
   "source": []
  }
 ],
 "metadata": {
  "kernelspec": {
   "display_name": "SAMed",
   "language": "python",
   "name": "python3"
  },
  "language_info": {
   "codemirror_mode": {
    "name": "ipython",
    "version": 3
   },
   "file_extension": ".py",
   "mimetype": "text/x-python",
   "name": "python",
   "nbconvert_exporter": "python",
   "pygments_lexer": "ipython3",
   "version": "3.8.17"
  },
  "orig_nbformat": 4
 },
 "nbformat": 4,
 "nbformat_minor": 2
}
